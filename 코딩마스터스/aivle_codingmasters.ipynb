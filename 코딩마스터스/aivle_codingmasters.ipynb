{
 "cells": [
  {
   "cell_type": "code",
   "execution_count": 1,
   "id": "bf86e02a",
   "metadata": {},
   "outputs": [
    {
     "name": "stdout",
     "output_type": "stream",
     "text": [
      "200\n",
      "2\n",
      "2\n"
     ]
    }
   ],
   "source": [
    "# aivle 5405\n",
    "# -*- coding: utf-8 -*-\n",
    "\n",
    "import sys\n",
    "\n",
    "a = int(input())\n",
    "a_sum = 0\n",
    "a_reverse = 0\n",
    "\n",
    "for i in range(1, len(str(a))+1):\n",
    "    if a%10:\n",
    "        a_sum += (a%10)    \n",
    "    a_reverse += (a%10)*((10**(len(str(a))-1)))\n",
    "    a//=10\n",
    "\n",
    "print(a_reverse)\n",
    "print(a_sum)"
   ]
  },
  {
   "cell_type": "code",
   "execution_count": 9,
   "id": "ecfb877d",
   "metadata": {},
   "outputs": [
    {
     "name": "stdout",
     "output_type": "stream",
     "text": [
      "3\n",
      "147\n",
      "258\n",
      "369\n"
     ]
    }
   ],
   "source": [
    "# 5406\n",
    "\n",
    "# -*- coding: utf-8 -*-\n",
    "import sys\n",
    "\n",
    "# a = int(sys.stdin.readline())\n",
    "a = int(input())\n",
    "\n",
    "for i in range(1, a+1):\n",
    "    num = i\n",
    "    for _ in range(a):\n",
    "        print(num, end=' ')\n",
    "        num = num + a\n",
    "    print('')\n",
    "        \n",
    "        "
   ]
  },
  {
   "cell_type": "code",
   "execution_count": 13,
   "id": "ecfbb0fd",
   "metadata": {},
   "outputs": [
    {
     "name": "stdout",
     "output_type": "stream",
     "text": [
      "452 486\n",
      "684\n"
     ]
    }
   ],
   "source": [
    "# 5408\n",
    "\n",
    "a, b = input().split()\n",
    "\n",
    "new_a = int(a[0]) + int(a[1])*10 + int(a[2])*100\n",
    "new_b = int(b[0]) + int(b[1])*10 + int(b[2])*100\n",
    "\n",
    "print(new_a if new_a > new_b else new_b)"
   ]
  },
  {
   "cell_type": "code",
   "execution_count": 17,
   "id": "c4f21c18",
   "metadata": {},
   "outputs": [
    {
     "name": "stdout",
     "output_type": "stream",
     "text": [
      "3\n",
      "*\n",
      "**\n",
      "***\n"
     ]
    }
   ],
   "source": [
    "# 5411\n",
    "\n",
    "import sys\n",
    "\n",
    "# a = int(sys.stdin.readline())\n",
    "a = int(input())\n",
    "\n",
    "for i in range(1, a+1):\n",
    "    print('*'*i)"
   ]
  },
  {
   "cell_type": "code",
   "execution_count": 19,
   "id": "b2a752fe",
   "metadata": {},
   "outputs": [
    {
     "name": "stdout",
     "output_type": "stream",
     "text": [
      "98\n",
      "A\n"
     ]
    }
   ],
   "source": [
    "# 5409\n",
    "\n",
    "a = int(input())\n",
    "\n",
    "if a>=90:\n",
    "    print('A')\n",
    "elif a>= 80:\n",
    "    print('B')\n",
    "elif a>= 70:\n",
    "    print('C')\n",
    "else:\n",
    "    print('F')"
   ]
  },
  {
   "cell_type": "code",
   "execution_count": 21,
   "id": "a055514e",
   "metadata": {},
   "outputs": [
    {
     "name": "stdout",
     "output_type": "stream",
     "text": [
      "nanum\n",
      "0\n"
     ]
    }
   ],
   "source": [
    "# 5412\n",
    "\n",
    "a = input()\n",
    "print(a.count('k'))"
   ]
  },
  {
   "cell_type": "code",
   "execution_count": 22,
   "id": "10d05846",
   "metadata": {},
   "outputs": [
    {
     "name": "stdout",
     "output_type": "stream",
     "text": [
      "hello\n",
      "olleh\n",
      "hello\n",
      "olleh\n"
     ]
    }
   ],
   "source": [
    "# 5410\n",
    "\n",
    "a = input()\n",
    "b = input()\n",
    "print(a)\n",
    "print(b)"
   ]
  },
  {
   "cell_type": "code",
   "execution_count": 24,
   "id": "998cdbee",
   "metadata": {},
   "outputs": [
    {
     "name": "stdout",
     "output_type": "stream",
     "text": [
      "3\n",
      "O\n"
     ]
    }
   ],
   "source": [
    "# 5413\n",
    "a = int(input())\n",
    "print('O' if a%2 else 'E')"
   ]
  },
  {
   "cell_type": "code",
   "execution_count": null,
   "id": "eda74a19",
   "metadata": {},
   "outputs": [],
   "source": [
    "# 5415\n",
    "import sys\n",
    "a = int(sys.stdin.readline())\n",
    "print(a//5)"
   ]
  },
  {
   "cell_type": "code",
   "execution_count": 26,
   "id": "10fc1859",
   "metadata": {},
   "outputs": [
    {
     "name": "stdout",
     "output_type": "stream",
     "text": [
      "23 54 232\n",
      "177\n"
     ]
    }
   ],
   "source": [
    "# 5414\n",
    "\n",
    "# a, b, c = map(int, input().split())\n",
    "a,b,c = map(int,sys.stdin.readline().split())\n",
    "if b-a > c-b:\n",
    "    ans = b-a-1\n",
    "else:\n",
    "    ans = c-b-1\n",
    "    \n",
    "print(ans)"
   ]
  },
  {
   "cell_type": "code",
   "execution_count": null,
   "id": "4fe21a03",
   "metadata": {},
   "outputs": [],
   "source": [
    "# 5416\n",
    "\n",
    "import sys\n",
    "\n",
    "a = int(sys.stdin.readline())\n",
    "num_list = []\n",
    "for i in range(a):\n",
    "    b = int(sys.stdin.readline())\n",
    "    num_list.append(b)\n",
    "\n",
    "print(sum(num_list))"
   ]
  },
  {
   "cell_type": "code",
   "execution_count": 43,
   "id": "cb070c1b",
   "metadata": {},
   "outputs": [
    {
     "name": "stdout",
     "output_type": "stream",
     "text": [
      "5\n",
      "78.5\n",
      "5\n"
     ]
    }
   ],
   "source": [
    "# 5420 \n",
    "\n",
    "# a = int(sys.stdin.readline())\n",
    "a = int(input())\n",
    "print(a*a*3.14 if str(a*a*3.14)[-1] != '0' else int(a*a*3.14))"
   ]
  },
  {
   "cell_type": "code",
   "execution_count": 49,
   "id": "b7ffcb13",
   "metadata": {},
   "outputs": [
    {
     "name": "stdout",
     "output_type": "stream",
     "text": [
      "10\n",
      "2\n",
      "3\n",
      "5\n",
      "7\n",
      "4\n"
     ]
    }
   ],
   "source": [
    "# 5417\n",
    "\n",
    "# a = int(sys.stdin.readline())\n",
    "a = int(input())\n",
    "count = []\n",
    "\n",
    "for i in range(2, a+1):\n",
    "    flag = 0 # 소수 여부 판별 (소수면 0 아니면 1)\n",
    "    for k in range(2, i):\n",
    "        if i % k == 0:\n",
    "            flag = 1\n",
    "            break\n",
    "    \n",
    "    if (flag == 0):\n",
    "        print(i)\n",
    "        count.append(i)\n",
    "\n",
    "print(len(count))"
   ]
  },
  {
   "cell_type": "code",
   "execution_count": null,
   "id": "b7d7da56",
   "metadata": {},
   "outputs": [],
   "source": [
    "# 5421\n",
    "\n",
    "print(a//16)"
   ]
  },
  {
   "cell_type": "code",
   "execution_count": 51,
   "id": "6f9f3a8f",
   "metadata": {},
   "outputs": [
    {
     "name": "stdout",
     "output_type": "stream",
     "text": [
      "kimnaraesarangbadahaneul\n",
      "0\n"
     ]
    }
   ],
   "source": [
    "#5418\n",
    "\n",
    "a = input()\n",
    "print(0 if len(a)>=20 else -1)"
   ]
  },
  {
   "cell_type": "code",
   "execution_count": null,
   "id": "f59520c3",
   "metadata": {},
   "outputs": [],
   "source": [
    "#5422\n",
    "print(a%3)"
   ]
  },
  {
   "cell_type": "code",
   "execution_count": 3,
   "id": "54673301",
   "metadata": {},
   "outputs": [
    {
     "name": "stdout",
     "output_type": "stream",
     "text": [
      "I 150\n"
     ]
    }
   ],
   "source": [
    "# 5424 림보게임\n",
    "# -*- coding: utf-8 -*-\n",
    "import sys\n",
    "# a = int(input())\n",
    "# num_list = list(map(int, input().split()))\n",
    "a = int(sys.stdin.readline())\n",
    "num_list = list(map(int,sys.stdin.readline().split()))\n",
    "# num_list.sort()\n",
    "is_ok = 1\n",
    "\n",
    "if a == len(num_list):\n",
    "    for num in num_list:\n",
    "        if num <= 160:\n",
    "            is_ok = 0\n",
    "            print('I', num)\n",
    "            break\n",
    "else:\n",
    "    is_ok = 0\n",
    "    # print('I', num_list[0])\n",
    "    \n",
    "if is_ok == 1:\n",
    "    print('P')"
   ]
  },
  {
   "cell_type": "code",
   "execution_count": 1,
   "id": "a707885d",
   "metadata": {},
   "outputs": [
    {
     "name": "stdout",
     "output_type": "stream",
     "text": [
      "s a d k f a s c\n"
     ]
    }
   ],
   "source": [
    "# 5434\n",
    "words = list(input().split())\n",
    "\n",
    "for word in words:\n",
    "    if word != 'c':\n",
    "        print(word, end=' ')\n",
    "    else:\n",
    "        print(word)\n",
    "        break"
   ]
  },
  {
   "cell_type": "code",
   "execution_count": 3,
   "id": "ac3d37da",
   "metadata": {},
   "outputs": [
    {
     "name": "stdout",
     "output_type": "stream",
     "text": [
      "33\n"
     ]
    }
   ],
   "source": [
    "#5433\n",
    "a, b, c = map(int, input().split())\n",
    "print(a+(c-1)*b)"
   ]
  },
  {
   "cell_type": "code",
   "execution_count": 6,
   "id": "cd8e84b9",
   "metadata": {},
   "outputs": [
    {
     "name": "stdout",
     "output_type": "stream",
     "text": [
      "73 3B\n"
     ]
    }
   ],
   "source": [
    "#5432\n",
    "import sys\n",
    "# a = int(sys.stdin.readline())\n",
    "a = int(input())\n",
    "print(oct(a)[2:].upper(), hex(a)[2:].upper())"
   ]
  },
  {
   "cell_type": "code",
   "execution_count": 10,
   "id": "d3a0d665",
   "metadata": {},
   "outputs": [
    {
     "name": "stdout",
     "output_type": "stream",
     "text": [
      "B\n"
     ]
    }
   ],
   "source": [
    "#5431\n",
    "a = int(input())\n",
    "print(chr(a))"
   ]
  },
  {
   "cell_type": "code",
   "execution_count": null,
   "id": "0b3ce9a8",
   "metadata": {},
   "outputs": [],
   "source": [
    "#5430\n",
    "import sys\n",
    "\n",
    "a = sys.stdin.readline()\n",
    "print('P' if len(a)<=20 else 'I')\n"
   ]
  },
  {
   "cell_type": "code",
   "execution_count": 2,
   "id": "a88aff1e",
   "metadata": {},
   "outputs": [
    {
     "name": "stdout",
     "output_type": "stream",
     "text": [
      "6\n"
     ]
    }
   ],
   "source": [
    "#5429\n",
    "\n",
    "a = int(input())\n",
    "print(a%5 if (a%5) > (a%7) else a%7 )"
   ]
  },
  {
   "cell_type": "code",
   "execution_count": 4,
   "id": "9f67cb1a",
   "metadata": {},
   "outputs": [
    {
     "name": "stdout",
     "output_type": "stream",
     "text": [
      "B\n"
     ]
    }
   ],
   "source": [
    "#5428\n",
    "n = int(input())\n",
    "\n",
    "if n >= 200:\n",
    "    print('A')\n",
    "elif n >= 180:\n",
    "    print('B')\n",
    "elif n >= 150:\n",
    "    print('C')\n",
    "else:\n",
    "    print('D') "
   ]
  },
  {
   "cell_type": "code",
   "execution_count": 8,
   "id": "1bbc1143",
   "metadata": {},
   "outputs": [
    {
     "name": "stdout",
     "output_type": "stream",
     "text": [
      "170\n"
     ]
    }
   ],
   "source": [
    "#5427\n",
    "\n",
    "a, b = map(int, input().split())\n",
    "print(int((a+b)/2))"
   ]
  },
  {
   "cell_type": "code",
   "execution_count": 10,
   "id": "df9d6ea7",
   "metadata": {},
   "outputs": [
    {
     "name": "stdout",
     "output_type": "stream",
     "text": [
      "P\n"
     ]
    }
   ],
   "source": [
    "# 5426\n",
    "num_list = list(map(int, input().split()))\n",
    "is_check = 0\n",
    "for n in num_list:\n",
    "    if n <= 0:\n",
    "        is_check = 1\n",
    "        break\n",
    "\n",
    "if sum(num_list) != 180:\n",
    "    is_check = 1\n",
    "\n",
    "print('P' if is_check == 0 else 'F')\n"
   ]
  },
  {
   "cell_type": "code",
   "execution_count": 15,
   "id": "4946b68a",
   "metadata": {},
   "outputs": [
    {
     "name": "stdout",
     "output_type": "stream",
     "text": [
      "4\n"
     ]
    }
   ],
   "source": [
    "# 5425\n",
    "\n",
    "a, b, n = map(int, input().split())\n",
    "if (n-a) % (a-b):\n",
    "    ans = 2 + (n-a) // (a-b)\n",
    "else:\n",
    "    ans = 1 + (n-a) // (a-b)\n",
    "print(ans)"
   ]
  },
  {
   "cell_type": "code",
   "execution_count": 21,
   "id": "bda4a439",
   "metadata": {},
   "outputs": [
    {
     "name": "stdout",
     "output_type": "stream",
     "text": [
      "5630 5000\n",
      "630 500\n",
      "130 100\n",
      "30 10\n",
      "6\n"
     ]
    }
   ],
   "source": [
    "# 5404 이제 초급!\n",
    "\n",
    "a = int(input())\n",
    "coin = [50000, 10000, 5000, 1000, 500, 100, 50, 10]\n",
    "cnt = 0\n",
    "\n",
    "for c in coin:\n",
    "    if a//c:\n",
    "        # print(a, c)\n",
    "        cnt += a//c\n",
    "        a = a-(a//c)*c\n",
    "    else:\n",
    "        continue\n",
    "\n",
    "print(cnt)\n",
    "        "
   ]
  },
  {
   "cell_type": "code",
   "execution_count": null,
   "id": "4549b749",
   "metadata": {},
   "outputs": [],
   "source": []
  }
 ],
 "metadata": {
  "kernelspec": {
   "display_name": "base",
   "language": "python",
   "name": "python3"
  },
  "language_info": {
   "codemirror_mode": {
    "name": "ipython",
    "version": 3
   },
   "file_extension": ".py",
   "mimetype": "text/x-python",
   "name": "python",
   "nbconvert_exporter": "python",
   "pygments_lexer": "ipython3",
   "version": "3.9.13"
  },
  "vscode": {
   "interpreter": {
    "hash": "f08154012ddadd8e950e6e9e035c7a7b32c136e7647e9b7c77e02eb723a8bedb"
   }
  }
 },
 "nbformat": 4,
 "nbformat_minor": 5
}
